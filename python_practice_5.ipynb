{
  "nbformat": 4,
  "nbformat_minor": 0,
  "metadata": {
    "colab": {
      "provenance": []
    },
    "kernelspec": {
      "name": "python3",
      "language": "python",
      "display_name": "Python 3 (ipykernel)"
    },
    "language_info": {
      "name": "python"
    }
  },
  "cells": [
    {
      "cell_type": "markdown",
      "source": [
        "# I. OOP"
      ],
      "metadata": {
        "id": "5qV_sehzFCTp"
      }
    },
    {
      "cell_type": "markdown",
      "source": [
        "1. (6б). Створіть клас Animal, додайте три атрибути, один з яких має значення за замовчуванням та два методи на свій розсуд."
      ],
      "metadata": {
        "id": "tx_U_hOALyfg"
      }
    },
    {
      "cell_type": "code",
      "source": [
        "class Animal:\n",
        "    def __init__(self, name, kind, age = 1):\n",
        "        self.name = name\n",
        "        self.kind = kind\n",
        "        self.age = age\n",
        "\n",
        "    def get_full_name(self):\n",
        "        return self.name + ' the ' + self.kind\n",
        "\n",
        "    def increment_age(self):\n",
        "        self.age += 1"
      ],
      "metadata": {
        "id": "-Vf895KaL88N",
        "ExecuteTime": {
          "end_time": "2024-03-06T15:04:53.924559500Z",
          "start_time": "2024-03-06T15:04:53.909725400Z"
        }
      },
      "execution_count": 1,
      "outputs": []
    },
    {
      "cell_type": "markdown",
      "source": [
        "2. (2б). Створіть два обʼєкти цього класу, де один з обʼєктів створюється із дефолтним значенням атрибуту. На одному обʼєкті отримайте значення його атрибуту, а на іншому викличте один з його методів."
      ],
      "metadata": {
        "id": "X_UlOMB0L93w"
      }
    },
    {
      "cell_type": "code",
      "source": [
        "dog = Animal('Bob', 'Dog', 4)\n",
        "cat = Animal('Mike', 'Cat')\n",
        "\n",
        "print(cat.age)\n",
        "print(dog.get_full_name())"
      ],
      "metadata": {
        "id": "7gBu0ESOMCpG",
        "ExecuteTime": {
          "end_time": "2024-03-06T15:05:17.088887Z",
          "start_time": "2024-03-06T15:05:17.073246900Z"
        },
        "colab": {
          "base_uri": "https://localhost:8080/"
        },
        "outputId": "916723c0-aec3-4d15-c88e-9f30ae2022e6"
      },
      "execution_count": 2,
      "outputs": [
        {
          "output_type": "stream",
          "name": "stdout",
          "text": [
            "1\n",
            "Bob the Dog\n"
          ]
        }
      ]
    },
    {
      "cell_type": "markdown",
      "source": [
        "3. (5б). Створіть клас, де атрибути мають різні рівні доступу. Спробуйте отримати їхні значення та опишіть результати."
      ],
      "metadata": {
        "id": "HoqSCZt1MHn5"
      }
    },
    {
      "cell_type": "code",
      "source": [
        "class Entity:\n",
        "    def __init__(self, public_attrib, protected_attrib, private_attrib):\n",
        "        self.public_attrib = public_attrib\n",
        "        self._protected_attrib = protected_attrib\n",
        "        self.__private_attrib = private_attrib\n",
        "\n",
        "entity = Entity('public_attrib', 'protected_attrib', 'private_attrib')\n",
        "\n",
        "# Public attributes can be accessed outside the class\n",
        "print(entity.public_attrib)\n",
        "\n",
        "# Protected attributes can also be accessed outside the class\n",
        "# They are supposed to only be used within hierarchy of the base class and its children\n",
        "print(entity._protected_attrib)\n",
        "\n",
        "# Private attributes are only visible and accessible within the class\n",
        "print(entity.__private_attrib)"
      ],
      "metadata": {
        "id": "r9b3vJxBMSPV",
        "ExecuteTime": {
          "end_time": "2024-03-06T16:18:55.254363Z",
          "start_time": "2024-03-06T16:18:55.237231600Z"
        },
        "colab": {
          "base_uri": "https://localhost:8080/",
          "height": 211
        },
        "outputId": "776d0925-2d34-42f1-d2ea-122ef5379eac"
      },
      "execution_count": 3,
      "outputs": [
        {
          "output_type": "stream",
          "name": "stdout",
          "text": [
            "public_attrib\n",
            "protected_attrib\n"
          ]
        },
        {
          "output_type": "error",
          "ename": "AttributeError",
          "evalue": "'Entity' object has no attribute '__private_attrib'",
          "traceback": [
            "\u001b[0;31m---------------------------------------------------------------------------\u001b[0m",
            "\u001b[0;31mAttributeError\u001b[0m                            Traceback (most recent call last)",
            "\u001b[0;32m<ipython-input-3-1b21110328a7>\u001b[0m in \u001b[0;36m<cell line: 17>\u001b[0;34m()\u001b[0m\n\u001b[1;32m     15\u001b[0m \u001b[0;34m\u001b[0m\u001b[0m\n\u001b[1;32m     16\u001b[0m \u001b[0;31m# Private attributes are only visible and accessible within the class\u001b[0m\u001b[0;34m\u001b[0m\u001b[0;34m\u001b[0m\u001b[0m\n\u001b[0;32m---> 17\u001b[0;31m \u001b[0mprint\u001b[0m\u001b[0;34m(\u001b[0m\u001b[0mentity\u001b[0m\u001b[0;34m.\u001b[0m\u001b[0m__private_attrib\u001b[0m\u001b[0;34m)\u001b[0m\u001b[0;34m\u001b[0m\u001b[0;34m\u001b[0m\u001b[0m\n\u001b[0m",
            "\u001b[0;31mAttributeError\u001b[0m: 'Entity' object has no attribute '__private_attrib'"
          ]
        }
      ]
    },
    {
      "cell_type": "markdown",
      "source": [
        "4. (7б). Як ви розумієте термін self? Для чого використовується метод __init __?"
      ],
      "metadata": {
        "id": "5op2m2vgMSkZ"
      }
    },
    {
      "cell_type": "markdown",
      "source": [
        "*місце для відповіді\n",
        "\n",
        "self - це ключове слово, яке дозволяє нам звертатись до конкретного екземпляру певного класу.\n",
        "\n",
        "__init__ - це конструктор, тобто метод, що відповідає за створення екземплярів класу."
      ],
      "metadata": {
        "id": "DyiPqNRvMasx"
      }
    },
    {
      "cell_type": "markdown",
      "source": [
        "5. (9б). Створіть клас Фігура без атрибутів, з методом get_area для отримання площі фігури, що повертає 0 та __add __, який приймає self та other в якості аргументів, а повертає суму площин фігур self та other."
      ],
      "metadata": {
        "id": "-6X8EGfjMd2y"
      }
    },
    {
      "cell_type": "code",
      "source": [
        "class Shape:\n",
        "    def get_area(self):\n",
        "        return 0\n",
        "\n",
        "    def __add__(self, other):\n",
        "        return self.get_area() + other.get_area()"
      ],
      "metadata": {
        "id": "4rvO_wYUMaEr",
        "ExecuteTime": {
          "end_time": "2024-03-06T16:45:24.604673Z",
          "start_time": "2024-03-06T16:45:24.589024200Z"
        }
      },
      "execution_count": 4,
      "outputs": []
    },
    {
      "cell_type": "markdown",
      "source": [
        "6. (11б). Створіть 2 дочірніх класи від Фігури: Трикутник та Коло, які мають атрибути, необхідні для розрахунку площин. Визначте метод get_area в кожному з них так, щоби вони розраховували площу в залежності від формули для кожного типу фігури. Створіть обʼєкт класу Трикутник та обʼєкт класу Коло. Виконайте операцію суми за допомогою оператора + між ними."
      ],
      "metadata": {
        "id": "SFcKnnv5Mo_z"
      }
    },
    {
      "cell_type": "code",
      "source": [
        "import math\n",
        "\n",
        "class Triangle(Shape):\n",
        "    def __init__(self, base, height):\n",
        "        self.base = base\n",
        "        self.height = height\n",
        "\n",
        "    def get_area(self):\n",
        "        return 0.5 * self.base * self.height\n",
        "\n",
        "\n",
        "class Circle(Shape):\n",
        "    def __init__(self, radius):\n",
        "        self.radius = radius\n",
        "\n",
        "    def get_area(self):\n",
        "        return math.pi * (self.radius ** 2)\n",
        "\n",
        "triangle = Triangle(3, 5)\n",
        "circle = Circle(2)\n",
        "\n",
        "print('Triangle area is ' + str(triangle.get_area()))\n",
        "print('Circle area is ' + str(circle.get_area()))\n",
        "print(triangle + circle)"
      ],
      "metadata": {
        "id": "H3GVNr69Muf3",
        "ExecuteTime": {
          "end_time": "2024-03-06T18:23:40.642281400Z",
          "start_time": "2024-03-06T18:23:40.595262700Z"
        },
        "colab": {
          "base_uri": "https://localhost:8080/"
        },
        "outputId": "5d4de508-692b-4707-e5f3-6cf77d5a7fda"
      },
      "execution_count": 5,
      "outputs": [
        {
          "output_type": "stream",
          "name": "stdout",
          "text": [
            "Triangle area is 7.5\n",
            "Circle area is 12.566370614359172\n",
            "20.066370614359172\n"
          ]
        }
      ]
    },
    {
      "cell_type": "markdown",
      "source": [
        "7. (3б). Продемонструйте різницю між isinstance та issubclass."
      ],
      "metadata": {
        "id": "HCvR206YMvLK"
      }
    },
    {
      "cell_type": "code",
      "source": [
        "class BaseEntity:\n",
        "    pass\n",
        "\n",
        "class ChildEntity(BaseEntity):\n",
        "    pass\n",
        "\n",
        "print(isinstance(ChildEntity, BaseEntity))\n",
        "print(issubclass(ChildEntity, BaseEntity))"
      ],
      "metadata": {
        "id": "L_V1bBvDM0GN",
        "ExecuteTime": {
          "end_time": "2024-03-06T17:17:48.493895100Z",
          "start_time": "2024-03-06T17:17:48.474645100Z"
        },
        "colab": {
          "base_uri": "https://localhost:8080/"
        },
        "outputId": "229c2d4b-58b3-4c5a-bcb3-4499339a6a39"
      },
      "execution_count": 6,
      "outputs": [
        {
          "output_type": "stream",
          "name": "stdout",
          "text": [
            "False\n",
            "True\n"
          ]
        }
      ]
    },
    {
      "cell_type": "markdown",
      "source": [
        "8. (13б). Створіть клас BankAccount з приватними атрибутами balance та account_number. Реалізуйте методи поповнення та зняття коштів, забезпечивши належну інкапсуляцію. Підказка: використовуйте декоратори property та setter."
      ],
      "metadata": {
        "id": "jjsaBZ-iM0Qq"
      }
    },
    {
      "cell_type": "code",
      "source": [
        "class BankAccount:\n",
        "    def __init__(self, balance, account_number):\n",
        "        self.__balance = balance\n",
        "        self.__account_number = account_number\n",
        "\n",
        "    @property\n",
        "    def balance(self):\n",
        "        return self.__balance\n",
        "\n",
        "    @property\n",
        "    def account_number(self):\n",
        "        return self.__account_number\n",
        "\n",
        "    @balance.setter\n",
        "    def balance(self, new_balance):\n",
        "        if new_balance < 0:\n",
        "            raise ValueError('Error: Balance cannot be negative')\n",
        "        self.__balance = new_balance\n",
        "\n",
        "    def deposit(self, amount):\n",
        "        if amount < 0:\n",
        "            raise ValueError('Error: Amount to deposit cannot be negative')\n",
        "        self.__balance += amount\n",
        "\n",
        "    def withdraw(self, amount):\n",
        "        if amount < 0:\n",
        "            raise ValueError('Error: Amount to withdraw cannot be negative')\n",
        "        if amount > self.__balance:\n",
        "            raise ValueError('Error: Insufficient funds on account ' + str(self.__account_number))\n",
        "        self.__balance -= amount\n",
        "\n",
        "\n",
        "account = BankAccount(1500, 753021)\n",
        "account.deposit(500)\n",
        "account.withdraw(1200)\n",
        "\n",
        "print(account.balance)"
      ],
      "metadata": {
        "id": "xCvZ7lh8M7YA",
        "ExecuteTime": {
          "end_time": "2024-03-06T17:52:23.789590400Z",
          "start_time": "2024-03-06T17:52:23.784348700Z"
        },
        "colab": {
          "base_uri": "https://localhost:8080/"
        },
        "outputId": "8f1ea852-73f4-4879-c9ea-bacbb4c07716"
      },
      "execution_count": 7,
      "outputs": [
        {
          "output_type": "stream",
          "name": "stdout",
          "text": [
            "800\n"
          ]
        }
      ]
    },
    {
      "cell_type": "markdown",
      "source": [
        "9. (11б). Створіть клас Library, який містить список об'єктів типу Book. Реалізуйте методи для додавання книги, видалення книги та відображення списку книг."
      ],
      "metadata": {
        "id": "tIzL2SJTM8ft"
      }
    },
    {
      "cell_type": "code",
      "source": [
        "class Book:\n",
        "    def __init__(self, title, author, year_published):\n",
        "        self.title = title\n",
        "        self.author = author\n",
        "        self.year_published = year_published\n",
        "\n",
        "\n",
        "class Library:\n",
        "    def __init__(self, books):\n",
        "        self.books = books\n",
        "\n",
        "    def add_book(self, book):\n",
        "        self.books.append(book)\n",
        "\n",
        "    def delete_book(self, book):\n",
        "        self.books.remove(book)\n",
        "\n",
        "    def show_books(self):\n",
        "        for book in self.books:\n",
        "            print('\"' + book.title + '\" - ' + book.author + ' - ' + str(book.year_published))\n",
        "\n",
        "\n",
        "print('The original library:')\n",
        "the_hunger_games = Book('The Hunger Games', 'Suzanne Collins', 2008)\n",
        "library = Library([\n",
        "    Book('1984', 'George Orwell', 1949),\n",
        "    Book('The Lord of the Rings', 'J.R.R. Tolkien', 1954),\n",
        "    the_hunger_games\n",
        "])\n",
        "library.show_books()\n",
        "\n",
        "print('\\nThe library after the changes:')\n",
        "library.delete_book(the_hunger_games)\n",
        "library.add_book(Book('Pride and Prejudice', 'Jane Austen', 1813))\n",
        "library.show_books()"
      ],
      "metadata": {
        "id": "HWxfJKLtNAUZ",
        "ExecuteTime": {
          "end_time": "2024-03-06T18:10:55.475879800Z",
          "start_time": "2024-03-06T18:10:55.460161900Z"
        },
        "colab": {
          "base_uri": "https://localhost:8080/"
        },
        "outputId": "23748cf8-7b33-47f2-92c4-1cae25ca816a"
      },
      "execution_count": 8,
      "outputs": [
        {
          "output_type": "stream",
          "name": "stdout",
          "text": [
            "The original library:\n",
            "\"1984\" - George Orwell - 1949\n",
            "\"The Lord of the Rings\" - J.R.R. Tolkien - 1954\n",
            "\"The Hunger Games\" - Suzanne Collins - 2008\n",
            "\n",
            "The library after the changes:\n",
            "\"1984\" - George Orwell - 1949\n",
            "\"The Lord of the Rings\" - J.R.R. Tolkien - 1954\n",
            "\"Pride and Prejudice\" - Jane Austen - 1813\n"
          ]
        }
      ]
    },
    {
      "cell_type": "markdown",
      "source": [
        "10. (13б). Створіть клас Person з атрибутами name та age. Створіть ще один клас Employee з такими атрибутами, як department та salary. Створіть клас Manager, який успадковує обидва класи Person та Employee. Продемонструйте використання множинної спадковості, створивши обʼєкт класу Manager та отримавши mro для цього класу."
      ],
      "metadata": {
        "id": "lmV8pAwwNIqu"
      }
    },
    {
      "cell_type": "code",
      "source": [
        "class Person:\n",
        "    def __init__(self, name, age):\n",
        "        self.name = name\n",
        "        self.age = age\n",
        "\n",
        "\n",
        "class Employee:\n",
        "    def __init__(self, department, salary):\n",
        "        self.department = department\n",
        "        self.salary = salary\n",
        "\n",
        "\n",
        "class Manager(Person, Employee):\n",
        "    def __init__(self, name, age, department, salary):\n",
        "        Person.__init__(self, name, age)\n",
        "        Employee.__init__(self, department, salary)\n",
        "\n",
        "\n",
        "manager = Manager('Mike', 35, 'IT', 85100)\n",
        "print('Manager name is', manager.name)\n",
        "print('Manager salary is', manager.salary)\n",
        "print('Manager mro is', Manager.mro())"
      ],
      "metadata": {
        "id": "R49grKlWNPeN",
        "ExecuteTime": {
          "end_time": "2024-03-06T18:23:56.962102700Z",
          "start_time": "2024-03-06T18:23:56.946373Z"
        },
        "colab": {
          "base_uri": "https://localhost:8080/"
        },
        "outputId": "e3cc3509-6e48-4853-aac2-526b5d06968d"
      },
      "execution_count": 9,
      "outputs": [
        {
          "output_type": "stream",
          "name": "stdout",
          "text": [
            "Manager name is Mike\n",
            "Manager salary is 85100\n",
            "Manager mro is [<class '__main__.Manager'>, <class '__main__.Person'>, <class '__main__.Employee'>, <class 'object'>]\n"
          ]
        }
      ]
    },
    {
      "cell_type": "markdown",
      "source": [
        "# II. Iterator"
      ],
      "metadata": {
        "id": "dIJyUiNBFG8G"
      }
    },
    {
      "cell_type": "markdown",
      "source": [
        "11. (4б). Визначте рядок(str) з 4ма різними за значенням символами. Створіть ітератор на основі цього рядка. Викличте 5 разів функцію next на ітераторі, 4ри перших з них огорніть у ф-цію print()."
      ],
      "metadata": {
        "id": "13vsm0NyKIzL"
      }
    },
    {
      "cell_type": "code",
      "source": [
        "my_string = 'abcd'\n",
        "my_iter = iter(my_string)\n",
        "\n",
        "print(next(my_iter))\n",
        "print(next(my_iter))\n",
        "print(next(my_iter))\n",
        "print(next(my_iter))\n",
        "next(my_iter)"
      ],
      "metadata": {
        "id": "81ntabAkKuz-",
        "ExecuteTime": {
          "end_time": "2024-03-06T18:27:43.079629900Z",
          "start_time": "2024-03-06T18:27:43.038703500Z"
        },
        "colab": {
          "base_uri": "https://localhost:8080/",
          "height": 245
        },
        "outputId": "bbaa7b4b-13be-4db1-deb2-65d1a66c8378"
      },
      "execution_count": 10,
      "outputs": [
        {
          "output_type": "stream",
          "name": "stdout",
          "text": [
            "a\n",
            "b\n",
            "c\n",
            "d\n"
          ]
        },
        {
          "output_type": "error",
          "ename": "StopIteration",
          "evalue": "",
          "traceback": [
            "\u001b[0;31m---------------------------------------------------------------------------\u001b[0m",
            "\u001b[0;31mStopIteration\u001b[0m                             Traceback (most recent call last)",
            "\u001b[0;32m<ipython-input-10-5e49dc973015>\u001b[0m in \u001b[0;36m<cell line: 8>\u001b[0;34m()\u001b[0m\n\u001b[1;32m      6\u001b[0m \u001b[0mprint\u001b[0m\u001b[0;34m(\u001b[0m\u001b[0mnext\u001b[0m\u001b[0;34m(\u001b[0m\u001b[0mmy_iter\u001b[0m\u001b[0;34m)\u001b[0m\u001b[0;34m)\u001b[0m\u001b[0;34m\u001b[0m\u001b[0;34m\u001b[0m\u001b[0m\n\u001b[1;32m      7\u001b[0m \u001b[0mprint\u001b[0m\u001b[0;34m(\u001b[0m\u001b[0mnext\u001b[0m\u001b[0;34m(\u001b[0m\u001b[0mmy_iter\u001b[0m\u001b[0;34m)\u001b[0m\u001b[0;34m)\u001b[0m\u001b[0;34m\u001b[0m\u001b[0;34m\u001b[0m\u001b[0m\n\u001b[0;32m----> 8\u001b[0;31m \u001b[0mnext\u001b[0m\u001b[0;34m(\u001b[0m\u001b[0mmy_iter\u001b[0m\u001b[0;34m)\u001b[0m\u001b[0;34m\u001b[0m\u001b[0;34m\u001b[0m\u001b[0m\n\u001b[0m",
            "\u001b[0;31mStopIteration\u001b[0m: "
          ]
        }
      ]
    },
    {
      "cell_type": "markdown",
      "source": [
        "А що якщо викликати цю ж функцію на рядку?"
      ],
      "metadata": {
        "id": "aekWHGXOLRsO"
      }
    },
    {
      "cell_type": "code",
      "source": [
        "next(my_string)"
      ],
      "metadata": {
        "id": "mxATGsErLV1i",
        "ExecuteTime": {
          "end_time": "2024-03-06T18:28:19.891918400Z",
          "start_time": "2024-03-06T18:28:19.887478900Z"
        },
        "colab": {
          "base_uri": "https://localhost:8080/",
          "height": 141
        },
        "outputId": "b9bccaf9-4f9e-40ab-e8fc-469832d46ec7"
      },
      "execution_count": 11,
      "outputs": [
        {
          "output_type": "error",
          "ename": "TypeError",
          "evalue": "'str' object is not an iterator",
          "traceback": [
            "\u001b[0;31m---------------------------------------------------------------------------\u001b[0m",
            "\u001b[0;31mTypeError\u001b[0m                                 Traceback (most recent call last)",
            "\u001b[0;32m<ipython-input-11-536fe210e95a>\u001b[0m in \u001b[0;36m<cell line: 1>\u001b[0;34m()\u001b[0m\n\u001b[0;32m----> 1\u001b[0;31m \u001b[0mnext\u001b[0m\u001b[0;34m(\u001b[0m\u001b[0mmy_string\u001b[0m\u001b[0;34m)\u001b[0m\u001b[0;34m\u001b[0m\u001b[0;34m\u001b[0m\u001b[0m\n\u001b[0m",
            "\u001b[0;31mTypeError\u001b[0m: 'str' object is not an iterator"
          ]
        }
      ]
    },
    {
      "cell_type": "markdown",
      "source": [
        " 12. (5б). Опишіть своїми словами в одному реченні, як ви розумієте різницю між ітерабельними обʼєктами та ітераторами (можна на прикладі)."
      ],
      "metadata": {
        "id": "XwtMEopwJ4pH"
      }
    },
    {
      "cell_type": "markdown",
      "source": [
        "*місце для відповіді\n",
        "\n",
        "Ітератор - це об'єкт, що імплементує Iterator Protocol та дозволяє нам отримати по черзі усі елементи якогось ітерабельного об'єкту.\n",
        "Ітерабельний об'єкт - це об'єкт, від якого можна взяти ітератор, наприклад list."
      ],
      "metadata": {
        "id": "-sHrODc3KFn8"
      }
    },
    {
      "cell_type": "markdown",
      "source": [
        "13. (11б). Створіть клас, що має визначений Iterator Protocol та при кожному виклику next повертає літери англійської абетки, поки вони не вичерпаються."
      ],
      "metadata": {
        "id": "E9qJWmNbK8Gl"
      }
    },
    {
      "cell_type": "code",
      "source": [
        "class AlphabetIterator:\n",
        "    def __iter__(self):\n",
        "        self.letter = ord('a') - 1\n",
        "        return self\n",
        "\n",
        "    def __next__(self):\n",
        "        self.letter += 1\n",
        "        if self.letter > ord('z'):\n",
        "            raise StopIteration\n",
        "        return chr(self.letter)\n",
        "\n",
        "\n",
        "letters = AlphabetIterator()\n",
        "for letter in letters:\n",
        "    print(letter)"
      ],
      "metadata": {
        "id": "cqx-g_RsLo6I",
        "ExecuteTime": {
          "end_time": "2024-03-06T18:43:33.785420800Z",
          "start_time": "2024-03-06T18:43:33.770414500Z"
        },
        "colab": {
          "base_uri": "https://localhost:8080/"
        },
        "outputId": "14425bd0-89c4-4855-c671-f6b30db64458"
      },
      "execution_count": 12,
      "outputs": [
        {
          "output_type": "stream",
          "name": "stdout",
          "text": [
            "a\n",
            "b\n",
            "c\n",
            "d\n",
            "e\n",
            "f\n",
            "g\n",
            "h\n",
            "i\n",
            "j\n",
            "k\n",
            "l\n",
            "m\n",
            "n\n",
            "o\n",
            "p\n",
            "q\n",
            "r\n",
            "s\n",
            "t\n",
            "u\n",
            "v\n",
            "w\n",
            "x\n",
            "y\n",
            "z\n"
          ]
        }
      ]
    },
    {
      "cell_type": "markdown",
      "source": [
        "# Вітаю! Ви велика(ий) молодець, що впоралась(вся). Похваліть себе та побалуйте чимось приємним. Я Вами пишаюся."
      ],
      "metadata": {
        "id": "Z3E3S_s1Fv7-"
      }
    }
  ]
}